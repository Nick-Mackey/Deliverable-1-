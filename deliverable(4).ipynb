{
  "nbformat": 4,
  "nbformat_minor": 0,
  "metadata": {
    "colab": {
      "provenance": [],
      "authorship_tag": "ABX9TyPJEfCyYkCahNj0Sw4Vy7NZ",
      "include_colab_link": true
    },
    "kernelspec": {
      "name": "python3",
      "display_name": "Python 3"
    },
    "language_info": {
      "name": "python"
    }
  },
  "cells": [
    {
      "cell_type": "markdown",
      "metadata": {
        "id": "view-in-github",
        "colab_type": "text"
      },
      "source": [
        "<a href=\"https://colab.research.google.com/github/Nick-Mackey/Deliverable-1-/blob/master/deliverable(4).ipynb\" target=\"_parent\"><img src=\"https://colab.research.google.com/assets/colab-badge.svg\" alt=\"Open In Colab\"/></a>"
      ]
    },
    {
      "cell_type": "code",
      "execution_count": 12,
      "metadata": {
        "id": "gKPytzks4Jp4"
      },
      "outputs": [],
      "source": [
        "import numpy\n",
        "import random"
      ]
    },
    {
      "cell_type": "code",
      "source": [
        "def populate_list(length):\n",
        "    return [random.randint(10, 50) for _ in range(length)]"
      ],
      "metadata": {
        "id": "g6USAPHI4zGU"
      },
      "execution_count": 13,
      "outputs": []
    },
    {
      "cell_type": "code",
      "source": [
        "def sum_list(numbers):\n",
        "    return sum(numbers)"
      ],
      "metadata": {
        "id": "r6TdWSx143UD"
      },
      "execution_count": 14,
      "outputs": []
    },
    {
      "cell_type": "code",
      "source": [
        "while True:\n",
        "    user_input = input(\"Enter an integer number between 5 and 15: \")\n",
        "    try:\n",
        "        num = int(user_input)\n",
        "        if 5 <= num <= 15:\n",
        "            break\n",
        "        else:\n",
        "            print(\"Please enter a number between 5 and 15.\")\n",
        "    except ValueError:\n",
        "        print(\"Invalid input. Please enter an integer.\")"
      ],
      "metadata": {
        "colab": {
          "base_uri": "https://localhost:8080/"
        },
        "id": "JWxYjgof47dA",
        "outputId": "bb2ba7e1-583e-4e44-bd76-fae2db79dc0a"
      },
      "execution_count": 15,
      "outputs": [
        {
          "name": "stdout",
          "output_type": "stream",
          "text": [
            "Enter an integer number between 5 and 15: 1\n",
            "Please enter a number between 5 and 15.\n",
            "Enter an integer number between 5 and 15: 20\n",
            "Please enter a number between 5 and 15.\n",
            "Enter an integer number between 5 and 15: 10\n"
          ]
        }
      ]
    },
    {
      "cell_type": "code",
      "source": [
        "random_list = populate_list(num)\n",
        "print(\"The elements of the array are:\", ' '.join(map(str, random_list)))"
      ],
      "metadata": {
        "colab": {
          "base_uri": "https://localhost:8080/"
        },
        "id": "0_WcSjZC499_",
        "outputId": "a91d8403-c671-4b95-bd4f-113f37739499"
      },
      "execution_count": 16,
      "outputs": [
        {
          "output_type": "stream",
          "name": "stdout",
          "text": [
            "The elements of the array are: 30 14 45 14 29 37 40 46 38 31\n"
          ]
        }
      ]
    },
    {
      "cell_type": "code",
      "source": [
        "sum_result = sum_list(random_list)\n",
        "print(\"The sum is:\", sum_result)"
      ],
      "metadata": {
        "colab": {
          "base_uri": "https://localhost:8080/"
        },
        "id": "oBhKtLEV4-pR",
        "outputId": "522430fb-be9c-42e0-b747-3a05d6f50902"
      },
      "execution_count": 17,
      "outputs": [
        {
          "output_type": "stream",
          "name": "stdout",
          "text": [
            "The sum is: 324\n"
          ]
        }
      ]
    }
  ]
}