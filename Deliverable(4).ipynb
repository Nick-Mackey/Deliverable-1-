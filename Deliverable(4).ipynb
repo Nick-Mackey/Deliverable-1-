{
  "nbformat": 4,
  "nbformat_minor": 0,
  "metadata": {
    "colab": {
      "provenance": [],
      "authorship_tag": "ABX9TyNHZaKgR7K4XsemNLepTKs4",
      "include_colab_link": true
    },
    "kernelspec": {
      "name": "python3",
      "display_name": "Python 3"
    },
    "language_info": {
      "name": "python"
    }
  },
  "cells": [
    {
      "cell_type": "markdown",
      "metadata": {
        "id": "view-in-github",
        "colab_type": "text"
      },
      "source": [
        "<a href=\"https://colab.research.google.com/github/Nick-Mackey/Deliverable-1-/blob/master/Deliverable(4).ipynb\" target=\"_parent\"><img src=\"https://colab.research.google.com/assets/colab-badge.svg\" alt=\"Open In Colab\"/></a>"
      ]
    },
    {
      "cell_type": "code",
      "execution_count": null,
      "metadata": {
        "id": "A6CMdRIP7Yri"
      },
      "outputs": [],
      "source": [
        "import numpy\n",
        "import random"
      ]
    },
    {
      "cell_type": "code",
      "source": [
        "def populate_list(length):\n",
        "    return [random.randint(10, 50) for _ in range(length)]"
      ],
      "metadata": {
        "id": "vWIZOT2X7euC"
      },
      "execution_count": null,
      "outputs": []
    },
    {
      "cell_type": "code",
      "source": [
        "def sum_list(numbers):\n",
        "    return sum(numbers)"
      ],
      "metadata": {
        "id": "6pz4RjNF7g54"
      },
      "execution_count": null,
      "outputs": []
    },
    {
      "cell_type": "code",
      "source": [
        "while True:\n",
        "    user_input = input(\"Enter an integer number between 5 and 15: \")\n",
        "    try:\n",
        "        num = int(user_input)\n",
        "        if 5 <= num <= 15:\n",
        "            break\n",
        "        else:\n",
        "            print(\"Please enter a number between 5 and 15.\")\n",
        "    except ValueError:\n",
        "        print(\"Invalid input. Please enter an integer.\")"
      ],
      "metadata": {
        "colab": {
          "base_uri": "https://localhost:8080/"
        },
        "id": "fofg7FGa7kHR",
        "outputId": "1f692490-6588-4d93-89f8-204566d32be3"
      },
      "execution_count": null,
      "outputs": [
        {
          "name": "stdout",
          "output_type": "stream",
          "text": [
            "Enter an integer number between 5 and 15: 1\n",
            "Please enter a number between 5 and 15.\n",
            "Enter an integer number between 5 and 15: 20\n",
            "Please enter a number between 5 and 15.\n",
            "Enter an integer number between 5 and 15: 10\n"
          ]
        }
      ]
    },
    {
      "cell_type": "code",
      "source": [
        "random_list = populate_list(num)\n",
        "print(\"The elements of the list are:\", ' '.join(map(str, random_list)))"
      ],
      "metadata": {
        "colab": {
          "base_uri": "https://localhost:8080/"
        },
        "id": "QV66m8UG7qVq",
        "outputId": "dd1fc951-6e1a-47f2-f380-7abae1c02b17"
      },
      "execution_count": null,
      "outputs": [
        {
          "output_type": "stream",
          "name": "stdout",
          "text": [
            "The elements of the list are: 11 36 29 20 25 17 44 48 45 40\n"
          ]
        }
      ]
    },
    {
      "cell_type": "code",
      "source": [
        "sum_result = sum_list(random_list)\n",
        "print(\"The sum is:\", sum_result)"
      ],
      "metadata": {
        "colab": {
          "base_uri": "https://localhost:8080/"
        },
        "id": "nnVTG5e87tr9",
        "outputId": "aa05051c-e1cf-49cb-80a2-2f97eed76c00"
      },
      "execution_count": null,
      "outputs": [
        {
          "output_type": "stream",
          "name": "stdout",
          "text": [
            "The sum is: 315\n"
          ]
        }
      ]
    }
  ]
}